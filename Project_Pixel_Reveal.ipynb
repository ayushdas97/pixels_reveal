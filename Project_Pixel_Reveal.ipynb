{
 "cells": [
  {
   "cell_type": "code",
   "execution_count": 1,
   "metadata": {},
   "outputs": [],
   "source": [
    "import numpy as np\n",
    "from PIL import Image, ImageTk\n",
    "import tkinter as tk\n",
    "from tkinter import simpledialog\n",
    "import cv2"
   ]
  },
  {
   "cell_type": "code",
   "execution_count": 2,
   "metadata": {},
   "outputs": [
    {
     "name": "stdout",
     "output_type": "stream",
     "text": [
      "Total Pixels for The Given Image: 786432\n"
     ]
    }
   ],
   "source": [
    "img = Image.open(\"sample.jpg\")\n",
    "x,y = img.size\n",
    "print(f\"Total Pixels for The Given Image: {x*y}\")"
   ]
  },
  {
   "cell_type": "code",
   "execution_count": 4,
   "metadata": {},
   "outputs": [],
   "source": [
    "def prepare_mask(height, width, pixels_to_reveal, steps):\n",
    "    total_pixels = height * width\n",
    "    mask = np.zeros(total_pixels, dtype=int)\n",
    "    mask[:pixels_to_reveal] = steps  # Control the fade intensity\n",
    "    np.random.shuffle(mask)\n",
    "    mask = mask.reshape((height, width))\n",
    "    return mask\n",
    "\n",
    "def fade_in_effect(image_path, pixels_to_reveal, steps=30):\n",
    "    img = cv2.imread(image_path, cv2.IMREAD_COLOR)\n",
    "    if img is None:\n",
    "        print(\"Error loading image\")\n",
    "        return\n",
    "\n",
    "    height, width, _ = img.shape\n",
    "    mask = prepare_mask(height, width, pixels_to_reveal, steps)\n",
    "\n",
    "    for current_step in range(1, steps + 1):\n",
    "        # Calculate opacity level for the current step\n",
    "        opacity_level = current_step / steps\n",
    "        fading_mask = np.clip(mask - current_step + 1, 0, 1).astype(np.uint8)\n",
    "\n",
    "        # Create a black image to fade in from\n",
    "        black_background = np.zeros_like(img)\n",
    "        display_img = cv2.addWeighted(img, opacity_level, black_background, 1 - opacity_level, 0)\n",
    "\n",
    "        # Apply the pixel reveal mask\n",
    "        display_img *= fading_mask[:, :, np.newaxis]  # Apply mask to all channels\n",
    "\n",
    "        cv2.imshow('Fading Image', display_img)\n",
    "        cv2.waitKey(100)  # Delay in ms, adjust for speed of animation\n",
    "\n",
    "    cv2.waitKey(0)  # Wait indefinitely until a key is pressed\n",
    "    cv2.destroyAllWindows()\n",
    "\n",
    "def ask_user_for_pixels():\n",
    "    root = tk.Tk()\n",
    "    root.withdraw()  # Hide the main Tk window\n",
    "\n",
    "    # Ask the user for the number of pixels to reveal\n",
    "    pixels_to_reveal = simpledialog.askinteger(\"Input\", \"How many pixels to display?\",\n",
    "                                               parent=root, minvalue=0, maxvalue=10000000)  # Adjust max value as needed\n",
    "    root.destroy()\n",
    "\n",
    "    return pixels_to_reveal\n",
    "\n",
    "# Example usage\n",
    "pixels_to_reveal = ask_user_for_pixels()\n",
    "if pixels_to_reveal is not None:\n",
    "    fade_in_effect('sample.jpg', pixels_to_reveal)\n"
   ]
  }
 ],
 "metadata": {
  "kernelspec": {
   "display_name": "Python 3",
   "language": "python",
   "name": "python3"
  },
  "language_info": {
   "codemirror_mode": {
    "name": "ipython",
    "version": 3
   },
   "file_extension": ".py",
   "mimetype": "text/x-python",
   "name": "python",
   "nbconvert_exporter": "python",
   "pygments_lexer": "ipython3",
   "version": "3.11.5"
  }
 },
 "nbformat": 4,
 "nbformat_minor": 2
}
