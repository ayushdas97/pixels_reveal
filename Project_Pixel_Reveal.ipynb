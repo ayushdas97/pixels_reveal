{
 "cells": [
  {
   "cell_type": "code",
   "execution_count": 2,
   "metadata": {},
   "outputs": [],
   "source": [
    "import numpy as np\n",
    "from PIL import Image, ImageTk\n",
    "import tkinter as tk\n",
    "from tkinter import simpledialog"
   ]
  },
  {
   "cell_type": "code",
   "execution_count": 7,
   "metadata": {},
   "outputs": [
    {
     "name": "stdout",
     "output_type": "stream",
     "text": [
      "Total Pixels for The Given Image: 60217344\n"
     ]
    }
   ],
   "source": [
    "img = Image.open(\"sample.jpg\")\n",
    "x,y = img.size\n",
    "print(f\"Total Pixels for The Given Image: {x*y}\")"
   ]
  },
  {
   "cell_type": "code",
   "execution_count": 15,
   "metadata": {},
   "outputs": [],
   "source": [
    "def reveal_pixels(image_path, pixels_to_reveal):\n",
    "    \"\"\"\n",
    "    Reveal a specified number of pixels in an image.\n",
    "    \n",
    "    Args:\n",
    "    image_path (str): Path to the image file.\n",
    "    pixels_to_reveal (int): Number of pixels to reveal.\n",
    "    \n",
    "    Returns:\n",
    "    Image: Image with the specified number of pixels revealed.\n",
    "    \"\"\"\n",
    "    img = Image.open(\"sample.jpg\")\n",
    "    img_array = np.array(img)\n",
    "    \n",
    "    total_pixels = img_array.shape[0] * img_array.shape[1]\n",
    "    mask = np.zeros(total_pixels, dtype=bool)\n",
    "    mask[:pixels_to_reveal] = True\n",
    "    np.random.shuffle(mask)\n",
    "    mask = mask.reshape(img_array.shape[:2])\n",
    "\n",
    "    for i in range(img_array.shape[2]):\n",
    "        img_array[:, :, i] = img_array[:, :, i] * mask\n",
    "\n",
    "    new_img = Image.fromarray(img_array)\n",
    "    return new_img\n",
    "\n",
    "def display_image(image):\n",
    "    \"\"\"\n",
    "    Display an image in a new window, scaled to fit the window.\n",
    "    \n",
    "    Args:\n",
    "    image: Image object to display.\n",
    "    \"\"\"\n",
    "    root = tk.Toplevel()\n",
    "    \n",
    "    # Get the screen width and height\n",
    "    screen_width = root.winfo_screenwidth()\n",
    "    screen_height = root.winfo_screenheight()\n",
    "    \n",
    "    # Resize the image to fit the window\n",
    "    img_width, img_height = image.size\n",
    "    if img_width > screen_width or img_height > screen_height:\n",
    "        # Scale down the image if it's larger than the screen\n",
    "        scale_factor = min(screen_width / img_width, screen_height / img_height)\n",
    "        new_width = int(img_width * scale_factor)\n",
    "        new_height = int(img_height * scale_factor)\n",
    "        image = image.resize((new_width, new_height))\n",
    "    \n",
    "    # Convert the image to PhotoImage format\n",
    "    imgtk = ImageTk.PhotoImage(image=image)\n",
    "    \n",
    "    # Create a label to display the image\n",
    "    label = tk.Label(root, image=imgtk)\n",
    "    label.image = imgtk  # Keep a reference, otherwise it's garbage collected.\n",
    "    label.pack()\n",
    "    \n",
    "    root.mainloop()\n",
    "\n",
    "def ask_pixels_and_display():\n",
    "    \"\"\"\n",
    "    Ask the user for the number of pixels to reveal and display the modified image.\n",
    "    \"\"\"\n",
    "    root = tk.Tk()\n",
    "    root.withdraw()  # Hide the main window\n",
    "\n",
    "    image_path = 'sample.jpg'  # Replace with your image file path\n",
    "    pixels_to_reveal = simpledialog.askinteger(\"Input\", \"How many pixels to display?\",\n",
    "                                               parent=root, minvalue=0, maxvalue=90000000)\n",
    "    root.destroy()  # Close the root window\n",
    "    \n",
    "    if pixels_to_reveal is not None:  # Check if input was given\n",
    "        revealed_image = reveal_pixels(image_path, pixels_to_reveal)\n",
    "        display_image(revealed_image)\n",
    "        \n",
    "ask_pixels_and_display()        "
   ]
  },
  {
   "cell_type": "code",
   "execution_count": null,
   "metadata": {},
   "outputs": [],
   "source": []
  }
 ],
 "metadata": {
  "kernelspec": {
   "display_name": "Python 3",
   "language": "python",
   "name": "python3"
  },
  "language_info": {
   "codemirror_mode": {
    "name": "ipython",
    "version": 3
   },
   "file_extension": ".py",
   "mimetype": "text/x-python",
   "name": "python",
   "nbconvert_exporter": "python",
   "pygments_lexer": "ipython3",
   "version": "3.11.5"
  }
 },
 "nbformat": 4,
 "nbformat_minor": 2
}
